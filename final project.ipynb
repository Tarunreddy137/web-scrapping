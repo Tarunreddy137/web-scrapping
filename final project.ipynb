{
 "cells": [
  {
   "cell_type": "code",
   "execution_count": 1,
   "id": "a2a6667e",
   "metadata": {},
   "outputs": [],
   "source": [
    "import pandas as pd\n",
    "import numpy as np"
   ]
  },
  {
   "cell_type": "code",
   "execution_count": 2,
   "id": "4f5f6ffe",
   "metadata": {},
   "outputs": [],
   "source": [
    "df=pd.read_csv('reddy3.csv')"
   ]
  },
  {
   "cell_type": "code",
   "execution_count": 3,
   "id": "36005214",
   "metadata": {},
   "outputs": [],
   "source": [
    "df['version']=df['version'].replace('nan','Diesel')"
   ]
  },
  {
   "cell_type": "code",
   "execution_count": 4,
   "id": "93007d8c",
   "metadata": {},
   "outputs": [],
   "source": [
    "price=[]\n",
    "for i in df['prices']:\n",
    "    price.append(str(i).split('-')[-1])"
   ]
  },
  {
   "cell_type": "code",
   "execution_count": 5,
   "id": "eec7ffcc",
   "metadata": {},
   "outputs": [],
   "source": [
    "s=[]\n",
    "for i in price:\n",
    "    if 'Crore' in i:\n",
    "        s.append(round(float(i.split()[-2])*100,2))\n",
    "    elif 'Lakh' in i:\n",
    "        s.append(i.split()[-2])\n",
    "    else:\n",
    "        s.append(i)\n",
    "        "
   ]
  },
  {
   "cell_type": "code",
   "execution_count": 6,
   "id": "62f014d1",
   "metadata": {},
   "outputs": [
    {
     "data": {
      "text/plain": [
       "['19.49',\n",
       " '18.39',\n",
       " '29.85',\n",
       " '38.49',\n",
       " '36.59',\n",
       " '18.62',\n",
       " '16.03',\n",
       " '24.58',\n",
       " '10.26',\n",
       " '14.06',\n",
       " '15.43',\n",
       " '31.87',\n",
       " '7.84',\n",
       " '9.46',\n",
       " '9.12',\n",
       " '11.78',\n",
       " '9.39',\n",
       " '7.89',\n",
       " '9.76',\n",
       " '15.41',\n",
       " '11.39',\n",
       " '10.21',\n",
       " '12.20',\n",
       " '9.99',\n",
       " '19.49',\n",
       " '11.49',\n",
       " '12.79',\n",
       " '8.85',\n",
       " '9.71',\n",
       " '9.17',\n",
       " '7.20',\n",
       " '14.55',\n",
       " '7.00',\n",
       " '5.03',\n",
       " '5.64',\n",
       " '12.92',\n",
       " '7.72',\n",
       " '5.94',\n",
       " '11.98',\n",
       " '7.04',\n",
       " '3.97',\n",
       " '9.55',\n",
       " '5.83',\n",
       " '6.05',\n",
       " '9.48',\n",
       " '13.89',\n",
       " '21.94',\n",
       " '7.79',\n",
       " '10.14',\n",
       " '8.56',\n",
       " '7.32',\n",
       " '7.49',\n",
       " '23.45',\n",
       " '19.24',\n",
       " '13.64',\n",
       " '18.45',\n",
       " '64.95',\n",
       " '13.69',\n",
       " '34.99',\n",
       " '17.69',\n",
       " '20.10',\n",
       " '18.12',\n",
       " '39.49',\n",
       " '25.88',\n",
       " '20.74',\n",
       " '10.56',\n",
       " '14.90',\n",
       " 212.0,\n",
       " '5.96',\n",
       " '10.57',\n",
       " '8.44',\n",
       " '48.50',\n",
       " 148.0,\n",
       " 151.0,\n",
       " 112.0,\n",
       " '76.00',\n",
       " '4.95',\n",
       " '95.90',\n",
       " '44.50',\n",
       " 178.0,\n",
       " '65.90',\n",
       " '67.50',\n",
       " '84.90',\n",
       " '69.90',\n",
       " '74.50',\n",
       " '73.90',\n",
       " '44.50',\n",
       " 104.0,\n",
       " 175.0,\n",
       " 115.0,\n",
       " 173.0,\n",
       " '79.90',\n",
       " '85.00',\n",
       " 143.0,\n",
       " 223.0,\n",
       " '99.90',\n",
       " 207.0,\n",
       " '56.90',\n",
       " '18.18',\n",
       " '11.83',\n",
       " '11.53',\n",
       " '15.44',\n",
       " '20.25',\n",
       " '8.87',\n",
       " '27.47',\n",
       " '6.41',\n",
       " '24.02',\n",
       " '8.10',\n",
       " '7.25',\n",
       " '12.02',\n",
       " '48.43',\n",
       " '25.68',\n",
       " '90.80',\n",
       " '36.80',\n",
       " '43.45',\n",
       " '11.73',\n",
       " '9.91',\n",
       " '48.10',\n",
       " '61.00',\n",
       " '83.50',\n",
       " 247.0,\n",
       " '66.90',\n",
       " 165.0,\n",
       " 244.0,\n",
       " 320.0,\n",
       " 146.0,\n",
       " 125.0,\n",
       " 164.0,\n",
       " 210.0,\n",
       " '99.50',\n",
       " '84.70',\n",
       " 271.0,\n",
       " '43.58',\n",
       " 264.0,\n",
       " 156.0,\n",
       " '72.00',\n",
       " '57.48',\n",
       " '58.69',\n",
       " 141.0,\n",
       " '82.47',\n",
       " 104.0,\n",
       " 173.0,\n",
       " '85.40',\n",
       " '79.50',\n",
       " '17.91',\n",
       " '10.25',\n",
       " '18.59',\n",
       " '32.79',\n",
       " '14.43',\n",
       " 131.0,\n",
       " '44.50',\n",
       " '65.90',\n",
       " '65.90',\n",
       " '45.90',\n",
       " '89.90',\n",
       " '48.99',\n",
       " '65.99',\n",
       " '48.89',\n",
       " '65.55',\n",
       " 119.0,\n",
       " 157.0,\n",
       " 224.0,\n",
       " 138.0,\n",
       " 'nan',\n",
       " 216.0,\n",
       " 165.0,\n",
       " '84.23',\n",
       " 109.0,\n",
       " 189.0,\n",
       " '89.90',\n",
       " '48.99',\n",
       " '65.99',\n",
       " '48.89',\n",
       " '65.55',\n",
       " 119.0,\n",
       " 157.0,\n",
       " 224.0,\n",
       " 138.0,\n",
       " 'nan',\n",
       " 216.0,\n",
       " 165.0,\n",
       " '84.23',\n",
       " 109.0,\n",
       " 189.0,\n",
       " '48.10',\n",
       " '61.00',\n",
       " '83.50',\n",
       " 247.0,\n",
       " '66.90',\n",
       " 165.0,\n",
       " 244.0,\n",
       " 320.0,\n",
       " 146.0,\n",
       " 125.0,\n",
       " 164.0,\n",
       " 210.0,\n",
       " '99.50',\n",
       " '84.70',\n",
       " 271.0,\n",
       " '43.58',\n",
       " 264.0,\n",
       " 156.0,\n",
       " '72.00',\n",
       " '57.48',\n",
       " '58.69',\n",
       " 141.0,\n",
       " '82.47',\n",
       " 104.0,\n",
       " 173.0,\n",
       " '85.40',\n",
       " '79.50',\n",
       " '95.90',\n",
       " '44.50',\n",
       " 178.0,\n",
       " '65.90',\n",
       " '67.50',\n",
       " '84.90',\n",
       " '69.90',\n",
       " '74.50',\n",
       " '73.90',\n",
       " '44.50',\n",
       " 104.0,\n",
       " 175.0,\n",
       " 115.0,\n",
       " 173.0,\n",
       " '79.90',\n",
       " '85.00',\n",
       " 143.0,\n",
       " 223.0,\n",
       " '99.90',\n",
       " 207.0,\n",
       " '56.90',\n",
       " 382.0,\n",
       " 350.0,\n",
       " 420.0,\n",
       " '61.85',\n",
       " 222.0,\n",
       " 109.0,\n",
       " 232.0,\n",
       " 215.0,\n",
       " '71.60',\n",
       " '29.59',\n",
       " '60.35',\n",
       " '36.95',\n",
       " '30.97',\n",
       " 164.0,\n",
       " 211.0,\n",
       " 251.0,\n",
       " 269.0,\n",
       " 193.0,\n",
       " '45.50',\n",
       " '39.00',\n",
       " '44.90',\n",
       " '46.50',\n",
       " '47.20',\n",
       " 343.0,\n",
       " 625.0,\n",
       " 499.0,\n",
       " 391.0,\n",
       " 341.0,\n",
       " 410.0,\n",
       " 795.0,\n",
       " 1048.0,\n",
       " 764.0,\n",
       " 695.0,\n",
       " 721.0,\n",
       " 376.0,\n",
       " 350.0,\n",
       " 750.0,\n",
       " 402.0,\n",
       " 575.0,\n",
       " 146.0,\n",
       " 193.0,\n",
       " 229.0,\n",
       " 308.0,\n",
       " 254.0,\n",
       " 198.0,\n",
       " 270.0,\n",
       " 417.0,\n",
       " 212.0,\n",
       " '69.99',\n",
       " '86.81',\n",
       " 184.0,\n",
       " 126.0,\n",
       " '69.31',\n",
       " '11.49',\n",
       " '12.79',\n",
       " '8.85',\n",
       " '9.71',\n",
       " '9.17',\n",
       " '7.20',\n",
       " '14.55',\n",
       " '7.00',\n",
       " '5.03',\n",
       " '5.64',\n",
       " '12.92',\n",
       " '7.72',\n",
       " '5.94',\n",
       " '11.98',\n",
       " '7.04',\n",
       " '3.97',\n",
       " '9.55',\n",
       " '5.83',\n",
       " '6.05']"
      ]
     },
     "execution_count": 6,
     "metadata": {},
     "output_type": "execute_result"
    }
   ],
   "source": [
    "s"
   ]
  },
  {
   "cell_type": "code",
   "execution_count": 7,
   "id": "bf5cc9f6",
   "metadata": {
    "scrolled": false
   },
   "outputs": [],
   "source": [
    "df['prices']=s\n",
    "df['prices']=df['prices'].replace('nan','')\n",
    "df[\"prices\"]=pd.to_numeric(df['prices'])\n",
    "df['prices']=df['prices'].fillna(value=151.50)\n"
   ]
  },
  {
   "cell_type": "code",
   "execution_count": 8,
   "id": "f84f08e4",
   "metadata": {},
   "outputs": [],
   "source": [
    "df.to_csv('reddy5.csv')"
   ]
  },
  {
   "cell_type": "code",
   "execution_count": 9,
   "id": "fde91dc3",
   "metadata": {},
   "outputs": [],
   "source": [
    "df['version'] = df['version'].apply(lambda x: 'Diesel' if x is np.nan else x)"
   ]
  },
  {
   "cell_type": "code",
   "execution_count": 10,
   "id": "13917b8b",
   "metadata": {},
   "outputs": [
    {
     "name": "stdout",
     "output_type": "stream",
     "text": [
      "<class 'pandas.core.frame.DataFrame'>\n",
      "RangeIndex: 304 entries, 0 to 303\n",
      "Data columns (total 9 columns):\n",
      " #   Column      Non-Null Count  Dtype  \n",
      "---  ------      --------------  -----  \n",
      " 0   Unnamed: 0  304 non-null    int64  \n",
      " 1   Brands      304 non-null    object \n",
      " 2   carname     304 non-null    object \n",
      " 3   prices      304 non-null    float64\n",
      " 4   Engine_cc   304 non-null    float64\n",
      " 5   Mileage     304 non-null    float64\n",
      " 6   version     304 non-null    object \n",
      " 7   Ratings     304 non-null    float64\n",
      " 8   Reviews     304 non-null    float64\n",
      "dtypes: float64(5), int64(1), object(3)\n",
      "memory usage: 21.5+ KB\n"
     ]
    }
   ],
   "source": [
    "df.info()"
   ]
  },
  {
   "cell_type": "code",
   "execution_count": 11,
   "id": "a34b51bb",
   "metadata": {},
   "outputs": [],
   "source": [
    "df.to_csv('kuchanpally.csv')"
   ]
  },
  {
   "cell_type": "code",
   "execution_count": 12,
   "id": "dce5795c",
   "metadata": {},
   "outputs": [
    {
     "data": {
      "text/html": [
       "<div>\n",
       "<style scoped>\n",
       "    .dataframe tbody tr th:only-of-type {\n",
       "        vertical-align: middle;\n",
       "    }\n",
       "\n",
       "    .dataframe tbody tr th {\n",
       "        vertical-align: top;\n",
       "    }\n",
       "\n",
       "    .dataframe thead th {\n",
       "        text-align: right;\n",
       "    }\n",
       "</style>\n",
       "<table border=\"1\" class=\"dataframe\">\n",
       "  <thead>\n",
       "    <tr style=\"text-align: right;\">\n",
       "      <th></th>\n",
       "      <th>Unnamed: 0</th>\n",
       "      <th>Brands</th>\n",
       "      <th>carname</th>\n",
       "      <th>prices</th>\n",
       "      <th>Engine_cc</th>\n",
       "      <th>Mileage</th>\n",
       "      <th>version</th>\n",
       "      <th>Ratings</th>\n",
       "      <th>Reviews</th>\n",
       "    </tr>\n",
       "  </thead>\n",
       "  <tbody>\n",
       "    <tr>\n",
       "      <th>0</th>\n",
       "      <td>0</td>\n",
       "      <td>Skoda</td>\n",
       "      <td>Kushaq</td>\n",
       "      <td>19.49</td>\n",
       "      <td>999.0</td>\n",
       "      <td>19.0</td>\n",
       "      <td>Petrol</td>\n",
       "      <td>3.7</td>\n",
       "      <td>56.0</td>\n",
       "    </tr>\n",
       "    <tr>\n",
       "      <th>1</th>\n",
       "      <td>1</td>\n",
       "      <td>Skoda</td>\n",
       "      <td>Slavia</td>\n",
       "      <td>18.39</td>\n",
       "      <td>999.0</td>\n",
       "      <td>19.0</td>\n",
       "      <td>Petrol</td>\n",
       "      <td>1.5</td>\n",
       "      <td>13.0</td>\n",
       "    </tr>\n",
       "    <tr>\n",
       "      <th>2</th>\n",
       "      <td>2</td>\n",
       "      <td>Skoda</td>\n",
       "      <td>Octavia</td>\n",
       "      <td>29.85</td>\n",
       "      <td>1984.0</td>\n",
       "      <td>16.0</td>\n",
       "      <td>Petrol</td>\n",
       "      <td>3.8</td>\n",
       "      <td>21.0</td>\n",
       "    </tr>\n",
       "    <tr>\n",
       "      <th>3</th>\n",
       "      <td>3</td>\n",
       "      <td>Skoda</td>\n",
       "      <td>Kodiaq</td>\n",
       "      <td>38.49</td>\n",
       "      <td>1984.0</td>\n",
       "      <td>13.0</td>\n",
       "      <td>Petrol</td>\n",
       "      <td>1.9</td>\n",
       "      <td>47.5</td>\n",
       "    </tr>\n",
       "    <tr>\n",
       "      <th>4</th>\n",
       "      <td>4</td>\n",
       "      <td>Skoda</td>\n",
       "      <td>Superb</td>\n",
       "      <td>36.59</td>\n",
       "      <td>1984.0</td>\n",
       "      <td>15.0</td>\n",
       "      <td>Petrol</td>\n",
       "      <td>4.0</td>\n",
       "      <td>27.0</td>\n",
       "    </tr>\n",
       "  </tbody>\n",
       "</table>\n",
       "</div>"
      ],
      "text/plain": [
       "   Unnamed: 0 Brands  carname  prices  Engine_cc  Mileage version  Ratings  \\\n",
       "0           0  Skoda   Kushaq   19.49      999.0     19.0  Petrol      3.7   \n",
       "1           1  Skoda   Slavia   18.39      999.0     19.0  Petrol      1.5   \n",
       "2           2  Skoda  Octavia   29.85     1984.0     16.0  Petrol      3.8   \n",
       "3           3  Skoda   Kodiaq   38.49     1984.0     13.0  Petrol      1.9   \n",
       "4           4  Skoda   Superb   36.59     1984.0     15.0  Petrol      4.0   \n",
       "\n",
       "   Reviews  \n",
       "0     56.0  \n",
       "1     13.0  \n",
       "2     21.0  \n",
       "3     47.5  \n",
       "4     27.0  "
      ]
     },
     "execution_count": 12,
     "metadata": {},
     "output_type": "execute_result"
    }
   ],
   "source": [
    "df.head()"
   ]
  },
  {
   "cell_type": "code",
   "execution_count": 13,
   "id": "c79b60e7",
   "metadata": {},
   "outputs": [
    {
     "data": {
      "text/html": [
       "<div>\n",
       "<style scoped>\n",
       "    .dataframe tbody tr th:only-of-type {\n",
       "        vertical-align: middle;\n",
       "    }\n",
       "\n",
       "    .dataframe tbody tr th {\n",
       "        vertical-align: top;\n",
       "    }\n",
       "\n",
       "    .dataframe thead th {\n",
       "        text-align: right;\n",
       "    }\n",
       "</style>\n",
       "<table border=\"1\" class=\"dataframe\">\n",
       "  <thead>\n",
       "    <tr style=\"text-align: right;\">\n",
       "      <th></th>\n",
       "      <th>Brands</th>\n",
       "      <th>carname</th>\n",
       "      <th>prices</th>\n",
       "      <th>Engine_cc</th>\n",
       "      <th>Mileage</th>\n",
       "      <th>version</th>\n",
       "      <th>Ratings</th>\n",
       "      <th>Reviews</th>\n",
       "    </tr>\n",
       "  </thead>\n",
       "  <tbody>\n",
       "    <tr>\n",
       "      <th>0</th>\n",
       "      <td>Skoda</td>\n",
       "      <td>Kushaq</td>\n",
       "      <td>19.49</td>\n",
       "      <td>999.0</td>\n",
       "      <td>19.0</td>\n",
       "      <td>Petrol</td>\n",
       "      <td>3.7</td>\n",
       "      <td>56.0</td>\n",
       "    </tr>\n",
       "    <tr>\n",
       "      <th>1</th>\n",
       "      <td>Skoda</td>\n",
       "      <td>Slavia</td>\n",
       "      <td>18.39</td>\n",
       "      <td>999.0</td>\n",
       "      <td>19.0</td>\n",
       "      <td>Petrol</td>\n",
       "      <td>1.5</td>\n",
       "      <td>13.0</td>\n",
       "    </tr>\n",
       "    <tr>\n",
       "      <th>2</th>\n",
       "      <td>Skoda</td>\n",
       "      <td>Octavia</td>\n",
       "      <td>29.85</td>\n",
       "      <td>1984.0</td>\n",
       "      <td>16.0</td>\n",
       "      <td>Petrol</td>\n",
       "      <td>3.8</td>\n",
       "      <td>21.0</td>\n",
       "    </tr>\n",
       "    <tr>\n",
       "      <th>3</th>\n",
       "      <td>Skoda</td>\n",
       "      <td>Kodiaq</td>\n",
       "      <td>38.49</td>\n",
       "      <td>1984.0</td>\n",
       "      <td>13.0</td>\n",
       "      <td>Petrol</td>\n",
       "      <td>1.9</td>\n",
       "      <td>47.5</td>\n",
       "    </tr>\n",
       "    <tr>\n",
       "      <th>4</th>\n",
       "      <td>Skoda</td>\n",
       "      <td>Superb</td>\n",
       "      <td>36.59</td>\n",
       "      <td>1984.0</td>\n",
       "      <td>15.0</td>\n",
       "      <td>Petrol</td>\n",
       "      <td>4.0</td>\n",
       "      <td>27.0</td>\n",
       "    </tr>\n",
       "    <tr>\n",
       "      <th>...</th>\n",
       "      <td>...</td>\n",
       "      <td>...</td>\n",
       "      <td>...</td>\n",
       "      <td>...</td>\n",
       "      <td>...</td>\n",
       "      <td>...</td>\n",
       "      <td>...</td>\n",
       "      <td>...</td>\n",
       "    </tr>\n",
       "    <tr>\n",
       "      <th>299</th>\n",
       "      <td>Maruti</td>\n",
       "      <td>Suzuki</td>\n",
       "      <td>7.04</td>\n",
       "      <td>1197.0</td>\n",
       "      <td>20.0</td>\n",
       "      <td>Petrol</td>\n",
       "      <td>1.7</td>\n",
       "      <td>13.0</td>\n",
       "    </tr>\n",
       "    <tr>\n",
       "      <th>300</th>\n",
       "      <td>Maruti</td>\n",
       "      <td>Suzuki</td>\n",
       "      <td>3.97</td>\n",
       "      <td>796.0</td>\n",
       "      <td>18.0</td>\n",
       "      <td>Petrol</td>\n",
       "      <td>1.7</td>\n",
       "      <td>47.5</td>\n",
       "    </tr>\n",
       "    <tr>\n",
       "      <th>301</th>\n",
       "      <td>Maruti</td>\n",
       "      <td>Suzuki</td>\n",
       "      <td>9.55</td>\n",
       "      <td>1462.0</td>\n",
       "      <td>18.0</td>\n",
       "      <td>Diesel</td>\n",
       "      <td>2.8</td>\n",
       "      <td>47.5</td>\n",
       "    </tr>\n",
       "    <tr>\n",
       "      <th>302</th>\n",
       "      <td>Maruti</td>\n",
       "      <td>Suzuki</td>\n",
       "      <td>5.83</td>\n",
       "      <td>1198.0</td>\n",
       "      <td>18.0</td>\n",
       "      <td>Diesel</td>\n",
       "      <td>1.7</td>\n",
       "      <td>47.5</td>\n",
       "    </tr>\n",
       "    <tr>\n",
       "      <th>303</th>\n",
       "      <td>Maruti</td>\n",
       "      <td>Suzuki</td>\n",
       "      <td>6.05</td>\n",
       "      <td>1196.0</td>\n",
       "      <td>18.0</td>\n",
       "      <td>Diesel</td>\n",
       "      <td>4.3</td>\n",
       "      <td>47.5</td>\n",
       "    </tr>\n",
       "  </tbody>\n",
       "</table>\n",
       "<p>304 rows × 8 columns</p>\n",
       "</div>"
      ],
      "text/plain": [
       "     Brands  carname  prices  Engine_cc  Mileage version  Ratings  Reviews\n",
       "0     Skoda   Kushaq   19.49      999.0     19.0  Petrol      3.7     56.0\n",
       "1     Skoda   Slavia   18.39      999.0     19.0  Petrol      1.5     13.0\n",
       "2     Skoda  Octavia   29.85     1984.0     16.0  Petrol      3.8     21.0\n",
       "3     Skoda   Kodiaq   38.49     1984.0     13.0  Petrol      1.9     47.5\n",
       "4     Skoda   Superb   36.59     1984.0     15.0  Petrol      4.0     27.0\n",
       "..      ...      ...     ...        ...      ...     ...      ...      ...\n",
       "299  Maruti   Suzuki    7.04     1197.0     20.0  Petrol      1.7     13.0\n",
       "300  Maruti   Suzuki    3.97      796.0     18.0  Petrol      1.7     47.5\n",
       "301  Maruti   Suzuki    9.55     1462.0     18.0  Diesel      2.8     47.5\n",
       "302  Maruti   Suzuki    5.83     1198.0     18.0  Diesel      1.7     47.5\n",
       "303  Maruti   Suzuki    6.05     1196.0     18.0  Diesel      4.3     47.5\n",
       "\n",
       "[304 rows x 8 columns]"
      ]
     },
     "execution_count": 13,
     "metadata": {},
     "output_type": "execute_result"
    }
   ],
   "source": [
    "df1=df.drop('Unnamed: 0',axis=1)\n",
    "df1\n"
   ]
  },
  {
   "cell_type": "code",
   "execution_count": 14,
   "id": "8543a57b",
   "metadata": {},
   "outputs": [
    {
     "data": {
      "text/html": [
       "<div>\n",
       "<style scoped>\n",
       "    .dataframe tbody tr th:only-of-type {\n",
       "        vertical-align: middle;\n",
       "    }\n",
       "\n",
       "    .dataframe tbody tr th {\n",
       "        vertical-align: top;\n",
       "    }\n",
       "\n",
       "    .dataframe thead th {\n",
       "        text-align: right;\n",
       "    }\n",
       "</style>\n",
       "<table border=\"1\" class=\"dataframe\">\n",
       "  <thead>\n",
       "    <tr style=\"text-align: right;\">\n",
       "      <th></th>\n",
       "      <th>prices</th>\n",
       "      <th>Engine_cc</th>\n",
       "      <th>Mileage</th>\n",
       "      <th>Ratings</th>\n",
       "      <th>Reviews</th>\n",
       "    </tr>\n",
       "  </thead>\n",
       "  <tbody>\n",
       "    <tr>\n",
       "      <th>count</th>\n",
       "      <td>304.000000</td>\n",
       "      <td>304.000000</td>\n",
       "      <td>304.000000</td>\n",
       "      <td>304.000000</td>\n",
       "      <td>304.000000</td>\n",
       "    </tr>\n",
       "    <tr>\n",
       "      <th>mean</th>\n",
       "      <td>111.185428</td>\n",
       "      <td>2322.263158</td>\n",
       "      <td>17.740132</td>\n",
       "      <td>3.985000</td>\n",
       "      <td>164.828947</td>\n",
       "    </tr>\n",
       "    <tr>\n",
       "      <th>std</th>\n",
       "      <td>143.912136</td>\n",
       "      <td>1237.186189</td>\n",
       "      <td>3.886369</td>\n",
       "      <td>0.838565</td>\n",
       "      <td>426.842201</td>\n",
       "    </tr>\n",
       "    <tr>\n",
       "      <th>min</th>\n",
       "      <td>3.970000</td>\n",
       "      <td>13.000000</td>\n",
       "      <td>7.000000</td>\n",
       "      <td>1.000000</td>\n",
       "      <td>11.000000</td>\n",
       "    </tr>\n",
       "    <tr>\n",
       "      <th>25%</th>\n",
       "      <td>14.812500</td>\n",
       "      <td>1462.000000</td>\n",
       "      <td>18.000000</td>\n",
       "      <td>3.800000</td>\n",
       "      <td>34.750000</td>\n",
       "    </tr>\n",
       "    <tr>\n",
       "      <th>50%</th>\n",
       "      <td>65.945000</td>\n",
       "      <td>1997.000000</td>\n",
       "      <td>18.000000</td>\n",
       "      <td>4.200000</td>\n",
       "      <td>47.500000</td>\n",
       "    </tr>\n",
       "    <tr>\n",
       "      <th>75%</th>\n",
       "      <td>156.000000</td>\n",
       "      <td>2993.000000</td>\n",
       "      <td>18.000000</td>\n",
       "      <td>4.500000</td>\n",
       "      <td>62.000000</td>\n",
       "    </tr>\n",
       "    <tr>\n",
       "      <th>max</th>\n",
       "      <td>1048.000000</td>\n",
       "      <td>6750.000000</td>\n",
       "      <td>40.000000</td>\n",
       "      <td>5.000000</td>\n",
       "      <td>4171.000000</td>\n",
       "    </tr>\n",
       "  </tbody>\n",
       "</table>\n",
       "</div>"
      ],
      "text/plain": [
       "            prices    Engine_cc     Mileage     Ratings      Reviews\n",
       "count   304.000000   304.000000  304.000000  304.000000   304.000000\n",
       "mean    111.185428  2322.263158   17.740132    3.985000   164.828947\n",
       "std     143.912136  1237.186189    3.886369    0.838565   426.842201\n",
       "min       3.970000    13.000000    7.000000    1.000000    11.000000\n",
       "25%      14.812500  1462.000000   18.000000    3.800000    34.750000\n",
       "50%      65.945000  1997.000000   18.000000    4.200000    47.500000\n",
       "75%     156.000000  2993.000000   18.000000    4.500000    62.000000\n",
       "max    1048.000000  6750.000000   40.000000    5.000000  4171.000000"
      ]
     },
     "execution_count": 14,
     "metadata": {},
     "output_type": "execute_result"
    }
   ],
   "source": [
    "df1.describe()"
   ]
  },
  {
   "cell_type": "code",
   "execution_count": 15,
   "id": "f17f553e",
   "metadata": {},
   "outputs": [],
   "source": [
    "df1.to_csv('cars.csv')"
   ]
  },
  {
   "cell_type": "code",
   "execution_count": 16,
   "id": "2766de1a",
   "metadata": {},
   "outputs": [
    {
     "data": {
      "text/plain": [
       "Mercedes-Benz    54\n",
       "BMW              42\n",
       "Maruti           38\n",
       "Audi             30\n",
       "Mahindra         14\n",
       "Hyundai          12\n",
       "Tata             11\n",
       "Porsche           7\n",
       "Toyota            7\n",
       "Land              7\n",
       "Lexus             6\n",
       "Honda             6\n",
       "Jaguar            5\n",
       "Ferrari           5\n",
       "Rolls             5\n",
       "MINI              5\n",
       "Maserati          5\n",
       "Skoda             5\n",
       "Kia               5\n",
       "Volvo             5\n",
       "Volkswagen        5\n",
       "MG                5\n",
       "Jeep              4\n",
       "Aston             3\n",
       "Lamborghini       3\n",
       "Bentley           3\n",
       "Nissan            3\n",
       "Renault           3\n",
       "Datsun            1\n",
       "Name: Brands, dtype: int64"
      ]
     },
     "execution_count": 16,
     "metadata": {},
     "output_type": "execute_result"
    }
   ],
   "source": [
    "df1['Brands'].value_counts()"
   ]
  },
  {
   "cell_type": "code",
   "execution_count": 17,
   "id": "249cd286",
   "metadata": {},
   "outputs": [
    {
     "data": {
      "text/plain": [
       "Petrol    250\n",
       "Diesel     54\n",
       "Name: version, dtype: int64"
      ]
     },
     "execution_count": 17,
     "metadata": {},
     "output_type": "execute_result"
    }
   ],
   "source": [
    "df1['version'].value_counts()"
   ]
  },
  {
   "cell_type": "code",
   "execution_count": 18,
   "id": "15e8c3bc",
   "metadata": {},
   "outputs": [
    {
     "data": {
      "text/html": [
       "<div>\n",
       "<style scoped>\n",
       "    .dataframe tbody tr th:only-of-type {\n",
       "        vertical-align: middle;\n",
       "    }\n",
       "\n",
       "    .dataframe tbody tr th {\n",
       "        vertical-align: top;\n",
       "    }\n",
       "\n",
       "    .dataframe thead th {\n",
       "        text-align: right;\n",
       "    }\n",
       "</style>\n",
       "<table border=\"1\" class=\"dataframe\">\n",
       "  <thead>\n",
       "    <tr style=\"text-align: right;\">\n",
       "      <th></th>\n",
       "      <th></th>\n",
       "      <th>carname</th>\n",
       "      <th>prices</th>\n",
       "      <th>Engine_cc</th>\n",
       "      <th>Mileage</th>\n",
       "      <th>Ratings</th>\n",
       "      <th>Reviews</th>\n",
       "    </tr>\n",
       "    <tr>\n",
       "      <th>Brands</th>\n",
       "      <th>version</th>\n",
       "      <th></th>\n",
       "      <th></th>\n",
       "      <th></th>\n",
       "      <th></th>\n",
       "      <th></th>\n",
       "      <th></th>\n",
       "    </tr>\n",
       "  </thead>\n",
       "  <tbody>\n",
       "    <tr>\n",
       "      <th rowspan=\"2\" valign=\"top\">Aston</th>\n",
       "      <th>Diesel</th>\n",
       "      <td>1</td>\n",
       "      <td>1</td>\n",
       "      <td>1</td>\n",
       "      <td>1</td>\n",
       "      <td>1</td>\n",
       "      <td>1</td>\n",
       "    </tr>\n",
       "    <tr>\n",
       "      <th>Petrol</th>\n",
       "      <td>2</td>\n",
       "      <td>2</td>\n",
       "      <td>2</td>\n",
       "      <td>2</td>\n",
       "      <td>2</td>\n",
       "      <td>2</td>\n",
       "    </tr>\n",
       "    <tr>\n",
       "      <th rowspan=\"2\" valign=\"top\">Audi</th>\n",
       "      <th>Diesel</th>\n",
       "      <td>8</td>\n",
       "      <td>8</td>\n",
       "      <td>8</td>\n",
       "      <td>8</td>\n",
       "      <td>8</td>\n",
       "      <td>8</td>\n",
       "    </tr>\n",
       "    <tr>\n",
       "      <th>Petrol</th>\n",
       "      <td>22</td>\n",
       "      <td>22</td>\n",
       "      <td>22</td>\n",
       "      <td>22</td>\n",
       "      <td>22</td>\n",
       "      <td>22</td>\n",
       "    </tr>\n",
       "    <tr>\n",
       "      <th rowspan=\"2\" valign=\"top\">BMW</th>\n",
       "      <th>Diesel</th>\n",
       "      <td>4</td>\n",
       "      <td>4</td>\n",
       "      <td>4</td>\n",
       "      <td>4</td>\n",
       "      <td>4</td>\n",
       "      <td>4</td>\n",
       "    </tr>\n",
       "    <tr>\n",
       "      <th>Petrol</th>\n",
       "      <td>38</td>\n",
       "      <td>38</td>\n",
       "      <td>38</td>\n",
       "      <td>38</td>\n",
       "      <td>38</td>\n",
       "      <td>38</td>\n",
       "    </tr>\n",
       "    <tr>\n",
       "      <th>Bentley</th>\n",
       "      <th>Petrol</th>\n",
       "      <td>3</td>\n",
       "      <td>3</td>\n",
       "      <td>3</td>\n",
       "      <td>3</td>\n",
       "      <td>3</td>\n",
       "      <td>3</td>\n",
       "    </tr>\n",
       "    <tr>\n",
       "      <th>Datsun</th>\n",
       "      <th>Petrol</th>\n",
       "      <td>1</td>\n",
       "      <td>1</td>\n",
       "      <td>1</td>\n",
       "      <td>1</td>\n",
       "      <td>1</td>\n",
       "      <td>1</td>\n",
       "    </tr>\n",
       "    <tr>\n",
       "      <th>Ferrari</th>\n",
       "      <th>Petrol</th>\n",
       "      <td>5</td>\n",
       "      <td>5</td>\n",
       "      <td>5</td>\n",
       "      <td>5</td>\n",
       "      <td>5</td>\n",
       "      <td>5</td>\n",
       "    </tr>\n",
       "    <tr>\n",
       "      <th>Honda</th>\n",
       "      <th>Petrol</th>\n",
       "      <td>6</td>\n",
       "      <td>6</td>\n",
       "      <td>6</td>\n",
       "      <td>6</td>\n",
       "      <td>6</td>\n",
       "      <td>6</td>\n",
       "    </tr>\n",
       "    <tr>\n",
       "      <th rowspan=\"2\" valign=\"top\">Hyundai</th>\n",
       "      <th>Diesel</th>\n",
       "      <td>2</td>\n",
       "      <td>2</td>\n",
       "      <td>2</td>\n",
       "      <td>2</td>\n",
       "      <td>2</td>\n",
       "      <td>2</td>\n",
       "    </tr>\n",
       "    <tr>\n",
       "      <th>Petrol</th>\n",
       "      <td>10</td>\n",
       "      <td>10</td>\n",
       "      <td>10</td>\n",
       "      <td>10</td>\n",
       "      <td>10</td>\n",
       "      <td>10</td>\n",
       "    </tr>\n",
       "    <tr>\n",
       "      <th rowspan=\"2\" valign=\"top\">Jaguar</th>\n",
       "      <th>Diesel</th>\n",
       "      <td>2</td>\n",
       "      <td>2</td>\n",
       "      <td>2</td>\n",
       "      <td>2</td>\n",
       "      <td>2</td>\n",
       "      <td>2</td>\n",
       "    </tr>\n",
       "    <tr>\n",
       "      <th>Petrol</th>\n",
       "      <td>3</td>\n",
       "      <td>3</td>\n",
       "      <td>3</td>\n",
       "      <td>3</td>\n",
       "      <td>3</td>\n",
       "      <td>3</td>\n",
       "    </tr>\n",
       "    <tr>\n",
       "      <th rowspan=\"2\" valign=\"top\">Jeep</th>\n",
       "      <th>Diesel</th>\n",
       "      <td>2</td>\n",
       "      <td>2</td>\n",
       "      <td>2</td>\n",
       "      <td>2</td>\n",
       "      <td>2</td>\n",
       "      <td>2</td>\n",
       "    </tr>\n",
       "    <tr>\n",
       "      <th>Petrol</th>\n",
       "      <td>2</td>\n",
       "      <td>2</td>\n",
       "      <td>2</td>\n",
       "      <td>2</td>\n",
       "      <td>2</td>\n",
       "      <td>2</td>\n",
       "    </tr>\n",
       "    <tr>\n",
       "      <th rowspan=\"2\" valign=\"top\">Kia</th>\n",
       "      <th>Diesel</th>\n",
       "      <td>2</td>\n",
       "      <td>2</td>\n",
       "      <td>2</td>\n",
       "      <td>2</td>\n",
       "      <td>2</td>\n",
       "      <td>2</td>\n",
       "    </tr>\n",
       "    <tr>\n",
       "      <th>Petrol</th>\n",
       "      <td>3</td>\n",
       "      <td>3</td>\n",
       "      <td>3</td>\n",
       "      <td>3</td>\n",
       "      <td>3</td>\n",
       "      <td>3</td>\n",
       "    </tr>\n",
       "    <tr>\n",
       "      <th>Lamborghini</th>\n",
       "      <th>Petrol</th>\n",
       "      <td>3</td>\n",
       "      <td>3</td>\n",
       "      <td>3</td>\n",
       "      <td>3</td>\n",
       "      <td>3</td>\n",
       "      <td>3</td>\n",
       "    </tr>\n",
       "    <tr>\n",
       "      <th>Land</th>\n",
       "      <th>Petrol</th>\n",
       "      <td>7</td>\n",
       "      <td>7</td>\n",
       "      <td>7</td>\n",
       "      <td>7</td>\n",
       "      <td>7</td>\n",
       "      <td>7</td>\n",
       "    </tr>\n",
       "    <tr>\n",
       "      <th>Lexus</th>\n",
       "      <th>Petrol</th>\n",
       "      <td>6</td>\n",
       "      <td>6</td>\n",
       "      <td>6</td>\n",
       "      <td>6</td>\n",
       "      <td>6</td>\n",
       "      <td>6</td>\n",
       "    </tr>\n",
       "    <tr>\n",
       "      <th rowspan=\"2\" valign=\"top\">MG</th>\n",
       "      <th>Diesel</th>\n",
       "      <td>3</td>\n",
       "      <td>3</td>\n",
       "      <td>3</td>\n",
       "      <td>3</td>\n",
       "      <td>3</td>\n",
       "      <td>3</td>\n",
       "    </tr>\n",
       "    <tr>\n",
       "      <th>Petrol</th>\n",
       "      <td>2</td>\n",
       "      <td>2</td>\n",
       "      <td>2</td>\n",
       "      <td>2</td>\n",
       "      <td>2</td>\n",
       "      <td>2</td>\n",
       "    </tr>\n",
       "    <tr>\n",
       "      <th rowspan=\"2\" valign=\"top\">MINI</th>\n",
       "      <th>Diesel</th>\n",
       "      <td>1</td>\n",
       "      <td>1</td>\n",
       "      <td>1</td>\n",
       "      <td>1</td>\n",
       "      <td>1</td>\n",
       "      <td>1</td>\n",
       "    </tr>\n",
       "    <tr>\n",
       "      <th>Petrol</th>\n",
       "      <td>4</td>\n",
       "      <td>4</td>\n",
       "      <td>4</td>\n",
       "      <td>4</td>\n",
       "      <td>4</td>\n",
       "      <td>4</td>\n",
       "    </tr>\n",
       "    <tr>\n",
       "      <th rowspan=\"2\" valign=\"top\">Mahindra</th>\n",
       "      <th>Diesel</th>\n",
       "      <td>9</td>\n",
       "      <td>9</td>\n",
       "      <td>9</td>\n",
       "      <td>9</td>\n",
       "      <td>9</td>\n",
       "      <td>9</td>\n",
       "    </tr>\n",
       "    <tr>\n",
       "      <th>Petrol</th>\n",
       "      <td>5</td>\n",
       "      <td>5</td>\n",
       "      <td>5</td>\n",
       "      <td>5</td>\n",
       "      <td>5</td>\n",
       "      <td>5</td>\n",
       "    </tr>\n",
       "    <tr>\n",
       "      <th rowspan=\"2\" valign=\"top\">Maruti</th>\n",
       "      <th>Diesel</th>\n",
       "      <td>6</td>\n",
       "      <td>6</td>\n",
       "      <td>6</td>\n",
       "      <td>6</td>\n",
       "      <td>6</td>\n",
       "      <td>6</td>\n",
       "    </tr>\n",
       "    <tr>\n",
       "      <th>Petrol</th>\n",
       "      <td>32</td>\n",
       "      <td>32</td>\n",
       "      <td>32</td>\n",
       "      <td>32</td>\n",
       "      <td>32</td>\n",
       "      <td>32</td>\n",
       "    </tr>\n",
       "    <tr>\n",
       "      <th>Maserati</th>\n",
       "      <th>Petrol</th>\n",
       "      <td>5</td>\n",
       "      <td>5</td>\n",
       "      <td>5</td>\n",
       "      <td>5</td>\n",
       "      <td>5</td>\n",
       "      <td>5</td>\n",
       "    </tr>\n",
       "    <tr>\n",
       "      <th rowspan=\"2\" valign=\"top\">Mercedes-Benz</th>\n",
       "      <th>Diesel</th>\n",
       "      <td>8</td>\n",
       "      <td>8</td>\n",
       "      <td>8</td>\n",
       "      <td>8</td>\n",
       "      <td>8</td>\n",
       "      <td>8</td>\n",
       "    </tr>\n",
       "    <tr>\n",
       "      <th>Petrol</th>\n",
       "      <td>46</td>\n",
       "      <td>46</td>\n",
       "      <td>46</td>\n",
       "      <td>46</td>\n",
       "      <td>46</td>\n",
       "      <td>46</td>\n",
       "    </tr>\n",
       "    <tr>\n",
       "      <th>Nissan</th>\n",
       "      <th>Petrol</th>\n",
       "      <td>3</td>\n",
       "      <td>3</td>\n",
       "      <td>3</td>\n",
       "      <td>3</td>\n",
       "      <td>3</td>\n",
       "      <td>3</td>\n",
       "    </tr>\n",
       "    <tr>\n",
       "      <th rowspan=\"2\" valign=\"top\">Porsche</th>\n",
       "      <th>Diesel</th>\n",
       "      <td>1</td>\n",
       "      <td>1</td>\n",
       "      <td>1</td>\n",
       "      <td>1</td>\n",
       "      <td>1</td>\n",
       "      <td>1</td>\n",
       "    </tr>\n",
       "    <tr>\n",
       "      <th>Petrol</th>\n",
       "      <td>6</td>\n",
       "      <td>6</td>\n",
       "      <td>6</td>\n",
       "      <td>6</td>\n",
       "      <td>6</td>\n",
       "      <td>6</td>\n",
       "    </tr>\n",
       "    <tr>\n",
       "      <th>Renault</th>\n",
       "      <th>Petrol</th>\n",
       "      <td>3</td>\n",
       "      <td>3</td>\n",
       "      <td>3</td>\n",
       "      <td>3</td>\n",
       "      <td>3</td>\n",
       "      <td>3</td>\n",
       "    </tr>\n",
       "    <tr>\n",
       "      <th>Rolls</th>\n",
       "      <th>Petrol</th>\n",
       "      <td>5</td>\n",
       "      <td>5</td>\n",
       "      <td>5</td>\n",
       "      <td>5</td>\n",
       "      <td>5</td>\n",
       "      <td>5</td>\n",
       "    </tr>\n",
       "    <tr>\n",
       "      <th>Skoda</th>\n",
       "      <th>Petrol</th>\n",
       "      <td>5</td>\n",
       "      <td>5</td>\n",
       "      <td>5</td>\n",
       "      <td>5</td>\n",
       "      <td>5</td>\n",
       "      <td>5</td>\n",
       "    </tr>\n",
       "    <tr>\n",
       "      <th rowspan=\"2\" valign=\"top\">Tata</th>\n",
       "      <th>Diesel</th>\n",
       "      <td>4</td>\n",
       "      <td>4</td>\n",
       "      <td>4</td>\n",
       "      <td>4</td>\n",
       "      <td>4</td>\n",
       "      <td>4</td>\n",
       "    </tr>\n",
       "    <tr>\n",
       "      <th>Petrol</th>\n",
       "      <td>7</td>\n",
       "      <td>7</td>\n",
       "      <td>7</td>\n",
       "      <td>7</td>\n",
       "      <td>7</td>\n",
       "      <td>7</td>\n",
       "    </tr>\n",
       "    <tr>\n",
       "      <th rowspan=\"2\" valign=\"top\">Toyota</th>\n",
       "      <th>Diesel</th>\n",
       "      <td>1</td>\n",
       "      <td>1</td>\n",
       "      <td>1</td>\n",
       "      <td>1</td>\n",
       "      <td>1</td>\n",
       "      <td>1</td>\n",
       "    </tr>\n",
       "    <tr>\n",
       "      <th>Petrol</th>\n",
       "      <td>6</td>\n",
       "      <td>6</td>\n",
       "      <td>6</td>\n",
       "      <td>6</td>\n",
       "      <td>6</td>\n",
       "      <td>6</td>\n",
       "    </tr>\n",
       "    <tr>\n",
       "      <th>Volkswagen</th>\n",
       "      <th>Petrol</th>\n",
       "      <td>5</td>\n",
       "      <td>5</td>\n",
       "      <td>5</td>\n",
       "      <td>5</td>\n",
       "      <td>5</td>\n",
       "      <td>5</td>\n",
       "    </tr>\n",
       "    <tr>\n",
       "      <th>Volvo</th>\n",
       "      <th>Petrol</th>\n",
       "      <td>5</td>\n",
       "      <td>5</td>\n",
       "      <td>5</td>\n",
       "      <td>5</td>\n",
       "      <td>5</td>\n",
       "      <td>5</td>\n",
       "    </tr>\n",
       "  </tbody>\n",
       "</table>\n",
       "</div>"
      ],
      "text/plain": [
       "                       carname  prices  Engine_cc  Mileage  Ratings  Reviews\n",
       "Brands        version                                                       \n",
       "Aston         Diesel         1       1          1        1        1        1\n",
       "              Petrol         2       2          2        2        2        2\n",
       "Audi          Diesel         8       8          8        8        8        8\n",
       "              Petrol        22      22         22       22       22       22\n",
       "BMW           Diesel         4       4          4        4        4        4\n",
       "              Petrol        38      38         38       38       38       38\n",
       "Bentley       Petrol         3       3          3        3        3        3\n",
       "Datsun        Petrol         1       1          1        1        1        1\n",
       "Ferrari       Petrol         5       5          5        5        5        5\n",
       "Honda         Petrol         6       6          6        6        6        6\n",
       "Hyundai       Diesel         2       2          2        2        2        2\n",
       "              Petrol        10      10         10       10       10       10\n",
       "Jaguar        Diesel         2       2          2        2        2        2\n",
       "              Petrol         3       3          3        3        3        3\n",
       "Jeep          Diesel         2       2          2        2        2        2\n",
       "              Petrol         2       2          2        2        2        2\n",
       "Kia           Diesel         2       2          2        2        2        2\n",
       "              Petrol         3       3          3        3        3        3\n",
       "Lamborghini   Petrol         3       3          3        3        3        3\n",
       "Land          Petrol         7       7          7        7        7        7\n",
       "Lexus         Petrol         6       6          6        6        6        6\n",
       "MG            Diesel         3       3          3        3        3        3\n",
       "              Petrol         2       2          2        2        2        2\n",
       "MINI          Diesel         1       1          1        1        1        1\n",
       "              Petrol         4       4          4        4        4        4\n",
       "Mahindra      Diesel         9       9          9        9        9        9\n",
       "              Petrol         5       5          5        5        5        5\n",
       "Maruti        Diesel         6       6          6        6        6        6\n",
       "              Petrol        32      32         32       32       32       32\n",
       "Maserati      Petrol         5       5          5        5        5        5\n",
       "Mercedes-Benz Diesel         8       8          8        8        8        8\n",
       "              Petrol        46      46         46       46       46       46\n",
       "Nissan        Petrol         3       3          3        3        3        3\n",
       "Porsche       Diesel         1       1          1        1        1        1\n",
       "              Petrol         6       6          6        6        6        6\n",
       "Renault       Petrol         3       3          3        3        3        3\n",
       "Rolls         Petrol         5       5          5        5        5        5\n",
       "Skoda         Petrol         5       5          5        5        5        5\n",
       "Tata          Diesel         4       4          4        4        4        4\n",
       "              Petrol         7       7          7        7        7        7\n",
       "Toyota        Diesel         1       1          1        1        1        1\n",
       "              Petrol         6       6          6        6        6        6\n",
       "Volkswagen    Petrol         5       5          5        5        5        5\n",
       "Volvo         Petrol         5       5          5        5        5        5"
      ]
     },
     "execution_count": 18,
     "metadata": {},
     "output_type": "execute_result"
    }
   ],
   "source": [
    "df1.groupby(['Brands','version']).count()"
   ]
  },
  {
   "cell_type": "markdown",
   "id": "b4be2278",
   "metadata": {},
   "source": [
    "# Data Visualization"
   ]
  },
  {
   "cell_type": "code",
   "execution_count": 19,
   "id": "a3d335a6",
   "metadata": {},
   "outputs": [],
   "source": [
    "import matplotlib.pyplot as plt\n",
    "import seaborn as sns"
   ]
  },
  {
   "cell_type": "markdown",
   "id": "ff2b1d95",
   "metadata": {},
   "source": [
    "# Univariate analysis"
   ]
  },
  {
   "cell_type": "code",
   "execution_count": 20,
   "id": "6796cf9a",
   "metadata": {},
   "outputs": [
    {
     "name": "stderr",
     "output_type": "stream",
     "text": [
      "C:\\Users\\manisha\\anaconda3\\lib\\site-packages\\seaborn\\distributions.py:2619: FutureWarning: `distplot` is a deprecated function and will be removed in a future version. Please adapt your code to use either `displot` (a figure-level function with similar flexibility) or `histplot` (an axes-level function for histograms).\n",
      "  warnings.warn(msg, FutureWarning)\n"
     ]
    },
    {
     "data": {
      "text/plain": [
       "<AxesSubplot:xlabel='Engine_cc', ylabel='Density'>"
      ]
     },
     "execution_count": 20,
     "metadata": {},
     "output_type": "execute_result"
    },
    {
     "data": {
      "image/png": "[encoded data removed]",
      "text/plain": [
       "<Figure size 432x288 with 1 Axes>"
      ]
     },
     "metadata": {
      "needs_background": "light"
     },
     "output_type": "display_data"
    }
   ],
   "source": [
    "sns.distplot(df1['Engine_cc'])"
   ]
  },
  {
   "cell_type": "code",
   "execution_count": null,
   "id": "57425acd",
   "metadata": {},
   "outputs": [],
   "source": []
  },
  {
   "cell_type": "markdown",
   "id": "9b3f764f",
   "metadata": {},
   "source": [
    "# Pie Chart"
   ]
  },
  {
   "cell_type": "code",
   "execution_count": 21,
   "id": "b1408025",
   "metadata": {},
   "outputs": [
    {
     "data": {
      "text/plain": [
       "Text(0.5, 1.0, 'Car Brands in india')"
      ]
     },
     "execution_count": 21,
     "metadata": {},
     "output_type": "execute_result"
    },
    {
     "data": {
      "image/png": "[encoded data removed]",
      "text/plain": [
       "<Figure size 600x600 with 1 Axes>"
      ]
     },
     "metadata": {},
     "output_type": "display_data"
    }
   ],
   "source": [
    "plt.figure(figsize=(10,10),dpi=60)\n",
    "\n",
    "df['Brands'].value_counts().plot.pie()\n",
    "plt.title('Car Brands in india')\n"
   ]
  },
  {
   "cell_type": "markdown",
   "id": "f95975e1",
   "metadata": {},
   "source": [
    "From this Graph we observed that how much percent of each brand it is showing"
   ]
  },
  {
   "cell_type": "markdown",
   "id": "50055203",
   "metadata": {},
   "source": [
    "# Bi-variate analysis"
   ]
  },
  {
   "cell_type": "markdown",
   "id": "1c71dff8",
   "metadata": {},
   "source": [
    "# Bar chart\n",
    "# Comparing between version and Mileage"
   ]
  },
  {
   "cell_type": "code",
   "execution_count": 22,
   "id": "8139f2bc",
   "metadata": {},
   "outputs": [
    {
     "data": {
      "text/plain": [
       "<AxesSubplot:xlabel='version', ylabel='Mileage'>"
      ]
     },
     "execution_count": 22,
     "metadata": {},
     "output_type": "execute_result"
    },
    {
     "data": {
      "image/png": "[encoded data removed]",
      "text/plain": [
       "<Figure size 432x288 with 1 Axes>"
      ]
     },
     "metadata": {
      "needs_background": "light"
     },
     "output_type": "display_data"
    }
   ],
   "source": [
    "sns.barplot(x='version', y='Mileage', data=df1)"
   ]
  },
  {
   "cell_type": "markdown",
   "id": "7d85acd7",
   "metadata": {},
   "source": [
    "From this Graph it is observed that petrol version has the highest mileage comparing to diesel"
   ]
  },
  {
   "cell_type": "markdown",
   "id": "4c08b8f5",
   "metadata": {},
   "source": [
    "# Bar chart\n",
    "# comparing between version and prices"
   ]
  },
  {
   "cell_type": "code",
   "execution_count": 23,
   "id": "532f3947",
   "metadata": {
    "scrolled": true
   },
   "outputs": [
    {
     "data": {
      "text/plain": [
       "<AxesSubplot:xlabel='version', ylabel='prices'>"
      ]
     },
     "execution_count": 23,
     "metadata": {},
     "output_type": "execute_result"
    },
    {
     "data": {
      "image/png": "[encoded data removed]",
      "text/plain": [
       "<Figure size 432x288 with 1 Axes>"
      ]
     },
     "metadata": {
      "needs_background": "light"
     },
     "output_type": "display_data"
    }
   ],
   "source": [
    "sns.barplot(x='version', y='prices', data=df1)"
   ]
  },
  {
   "cell_type": "markdown",
   "id": "b19dabba",
   "metadata": {},
   "source": [
    "from this graph we can say that petrol version has highest price compare to  diesel"
   ]
  },
  {
   "cell_type": "markdown",
   "id": "072741c3",
   "metadata": {},
   "source": [
    "# Bar chart\n",
    "# comparing between Brands and Mileage"
   ]
  },
  {
   "cell_type": "code",
   "execution_count": 24,
   "id": "e9ff08bc",
   "metadata": {},
   "outputs": [
    {
     "data": {
      "image/png": "[encoded data removed]",
      "text/plain": [
       "<Figure size 720x504 with 1 Axes>"
      ]
     },
     "metadata": {
      "needs_background": "light"
     },
     "output_type": "display_data"
    }
   ],
   "source": [
    "plt.figure(figsize=(10,7))\n",
    "sns.barplot(x='Brands', y='Mileage', data=df1)\n",
    "plt.xticks(rotation=90)\n",
    "\n",
    "plt.show()"
   ]
  },
  {
   "cell_type": "markdown",
   "id": "fc82eb73",
   "metadata": {},
   "source": [
    "\n",
    "So, from this graph we can say that Honda Brand has the Highest mileage and lamborghini has the lowest mileage"
   ]
  },
  {
   "cell_type": "markdown",
   "id": "e65fb0f2",
   "metadata": {},
   "source": [
    "# bar chart\n",
    "# comparing between version and Ratings"
   ]
  },
  {
   "cell_type": "code",
   "execution_count": 25,
   "id": "5314c8b4",
   "metadata": {},
   "outputs": [
    {
     "data": {
      "text/plain": [
       "<AxesSubplot:xlabel='version', ylabel='Ratings'>"
      ]
     },
     "execution_count": 25,
     "metadata": {},
     "output_type": "execute_result"
    },
    {
     "data": {
      "image/png": "[encoded data removed]",
      "text/plain": [
       "<Figure size 432x288 with 1 Axes>"
      ]
     },
     "metadata": {
      "needs_background": "light"
     },
     "output_type": "display_data"
    }
   ],
   "source": [
    "sns.barplot(data = df1, x='version', y='Ratings')"
   ]
  },
  {
   "cell_type": "markdown",
   "id": "607e5bfa",
   "metadata": {},
   "source": [
    "from this graph we can say that petrol version has the highest ratings"
   ]
  },
  {
   "cell_type": "markdown",
   "id": "78bc2142",
   "metadata": {},
   "source": [
    "# Bar chart\n",
    "# comparing between Brands and Engine_cc"
   ]
  },
  {
   "cell_type": "code",
   "execution_count": 26,
   "id": "75b4a78b",
   "metadata": {},
   "outputs": [
    {
     "data": {
      "image/png": "[encoded data removed]",
      "text/plain": [
       "<Figure size 720x504 with 1 Axes>"
      ]
     },
     "metadata": {
      "needs_background": "light"
     },
     "output_type": "display_data"
    }
   ],
   "source": [
    "plt.figure(figsize=(10,7))\n",
    "sns.barplot(x='Brands', y='Engine_cc', data=df1)\n",
    "plt.xticks(rotation=90)\n",
    "\n",
    "plt.show()"
   ]
  },
  {
   "cell_type": "markdown",
   "id": "de4349e0",
   "metadata": {},
   "source": [
    "So, from this graph we can say that Rolls Brand has the Highest Engine_cc and Datsun has the lowest mileage"
   ]
  },
  {
   "cell_type": "code",
   "execution_count": 27,
   "id": "d8ffa176",
   "metadata": {},
   "outputs": [
    {
     "data": {
      "text/plain": [
       "(array([ 0,  1,  2,  3,  4,  5,  6,  7,  8,  9, 10, 11, 12, 13, 14, 15, 16,\n",
       "        17, 18, 19, 20, 21, 22, 23, 24, 25, 26, 27, 28]),\n",
       " [Text(0, 0, 'Skoda'),\n",
       "  Text(1, 0, 'Mahindra'),\n",
       "  Text(2, 0, 'Honda'),\n",
       "  Text(3, 0, 'Maruti'),\n",
       "  Text(4, 0, 'Tata'),\n",
       "  Text(5, 0, 'Kia'),\n",
       "  Text(6, 0, 'MG'),\n",
       "  Text(7, 0, 'Nissan'),\n",
       "  Text(8, 0, 'Renault'),\n",
       "  Text(9, 0, 'Jaguar'),\n",
       "  Text(10, 0, 'Datsun'),\n",
       "  Text(11, 0, 'BMW'),\n",
       "  Text(12, 0, 'Hyundai'),\n",
       "  Text(13, 0, 'Toyota'),\n",
       "  Text(14, 0, 'Mercedes-Benz'),\n",
       "  Text(15, 0, 'Volkswagen'),\n",
       "  Text(16, 0, 'Volvo'),\n",
       "  Text(17, 0, 'Audi'),\n",
       "  Text(18, 0, 'Aston'),\n",
       "  Text(19, 0, 'Lexus'),\n",
       "  Text(20, 0, 'Jeep'),\n",
       "  Text(21, 0, 'Maserati'),\n",
       "  Text(22, 0, 'MINI'),\n",
       "  Text(23, 0, 'Lamborghini'),\n",
       "  Text(24, 0, 'Bentley'),\n",
       "  Text(25, 0, 'Rolls'),\n",
       "  Text(26, 0, 'Ferrari'),\n",
       "  Text(27, 0, 'Porsche'),\n",
       "  Text(28, 0, 'Land')])"
      ]
     },
     "execution_count": 27,
     "metadata": {},
     "output_type": "execute_result"
    },
    {
     "data": {
      "image/png": "[encoded data removed]",
      "text/plain": [
       "<Figure size 432x288 with 1 Axes>"
      ]
     },
     "metadata": {
      "needs_background": "light"
     },
     "output_type": "display_data"
    }
   ],
   "source": [
    "sns.boxplot(data = df1, x='Brands', y='Mileage')\n",
    "plt.xticks(rotation=90)\n"
   ]
  },
  {
   "cell_type": "code",
   "execution_count": 28,
   "id": "840c86f7",
   "metadata": {},
   "outputs": [
    {
     "name": "stderr",
     "output_type": "stream",
     "text": [
      "C:\\Users\\manisha\\anaconda3\\lib\\site-packages\\seaborn\\_decorators.py:36: FutureWarning: Pass the following variables as keyword args: x, y. From version 0.12, the only valid positional argument will be `data`, and passing other arguments without an explicit keyword will result in an error or misinterpretation.\n",
      "  warnings.warn(\n"
     ]
    },
    {
     "data": {
      "text/plain": [
       "<AxesSubplot:xlabel='Engine_cc', ylabel='prices'>"
      ]
     },
     "execution_count": 28,
     "metadata": {},
     "output_type": "execute_result"
    },
    {
     "data": {
      "image/png": "[encoded data removed]",
      "text/plain": [
       "<Figure size 432x288 with 1 Axes>"
      ]
     },
     "metadata": {
      "needs_background": "light"
     },
     "output_type": "display_data"
    }
   ],
   "source": [
    "sns.scatterplot(df['Engine_cc'],df['prices'])"
   ]
  },
  {
   "cell_type": "markdown",
   "id": "4b832507",
   "metadata": {},
   "source": [
    "   # Box plot\n",
    "   # To check the Outliers"
   ]
  },
  {
   "cell_type": "code",
   "execution_count": 29,
   "id": "76104f85",
   "metadata": {},
   "outputs": [
    {
     "data": {
      "text/plain": [
       "<AxesSubplot:xlabel='version', ylabel='prices'>"
      ]
     },
     "execution_count": 29,
     "metadata": {},
     "output_type": "execute_result"
    },
    {
     "data": {
      "image/png": "[encoded data removed]",
      "text/plain": [
       "<Figure size 576x576 with 1 Axes>"
      ]
     },
     "metadata": {
      "needs_background": "light"
     },
     "output_type": "display_data"
    }
   ],
   "source": [
    "plt.figure(figsize=(8,8))\n",
    "sns.boxplot(data = df1, x='version', y='prices')"
   ]
  },
  {
   "cell_type": "markdown",
   "id": "0e2c0329",
   "metadata": {},
   "source": [
    "# Box plot \n",
    "# To check the outliers"
   ]
  },
  {
   "cell_type": "code",
   "execution_count": 30,
   "id": "49e85f0b",
   "metadata": {
    "scrolled": true
   },
   "outputs": [
    {
     "data": {
      "text/plain": [
       "<AxesSubplot:xlabel='version', ylabel='Engine_cc'>"
      ]
     },
     "execution_count": 30,
     "metadata": {},
     "output_type": "execute_result"
    },
    {
     "data": {
      "image/png": "[encoded data removed]",
      "text/plain": [
       "<Figure size 360x360 with 1 Axes>"
      ]
     },
     "metadata": {
      "needs_background": "light"
     },
     "output_type": "display_data"
    }
   ],
   "source": [
    "plt.figure(figsize=(5,5))\n",
    "sns.boxplot(data = df1, x='version', y='Engine_cc')"
   ]
  },
  {
   "cell_type": "markdown",
   "id": "894e4242",
   "metadata": {},
   "source": [
    "From this graph we can say that there are outliers petrol version and diesel version"
   ]
  },
  {
   "cell_type": "markdown",
   "id": "2d3210b4",
   "metadata": {},
   "source": [
    "# multi_variate analysis"
   ]
  },
  {
   "cell_type": "code",
   "execution_count": null,
   "id": "6b0308b0",
   "metadata": {},
   "outputs": [],
   "source": []
  },
  {
   "cell_type": "code",
   "execution_count": 31,
   "id": "f39795e3",
   "metadata": {
    "scrolled": false
   },
   "outputs": [
    {
     "data": {
      "text/plain": [
       "<AxesSubplot:>"
      ]
     },
     "execution_count": 31,
     "metadata": {},
     "output_type": "execute_result"
    },
    {
     "data": {
      "image/png": "[encoded data removed]",
      "text/plain": [
       "<Figure size 432x288 with 2 Axes>"
      ]
     },
     "metadata": {
      "needs_background": "light"
     },
     "output_type": "display_data"
    }
   ],
   "source": [
    "sns.heatmap(df1.corr(),annot=True)"
   ]
  },
  {
   "cell_type": "markdown",
   "id": "1a1eca08",
   "metadata": {},
   "source": [
    "by seeing this graph we can say that there is negative correlation between the variables"
   ]
  },
  {
   "cell_type": "code",
   "execution_count": 32,
   "id": "3f600214",
   "metadata": {},
   "outputs": [
    {
     "data": {
      "text/plain": [
       "version\n",
       "Diesel     382.0\n",
       "Petrol    1048.0\n",
       "Name: prices, dtype: float64"
      ]
     },
     "execution_count": 32,
     "metadata": {},
     "output_type": "execute_result"
    }
   ],
   "source": [
    "df.groupby(by = \"version\")[\"prices\"].max()"
   ]
  },
  {
   "cell_type": "code",
   "execution_count": 33,
   "id": "b79228e8",
   "metadata": {},
   "outputs": [
    {
     "data": {
      "text/plain": [
       "version\n",
       "Diesel    5.83\n",
       "Petrol    3.97\n",
       "Name: prices, dtype: float64"
      ]
     },
     "execution_count": 33,
     "metadata": {},
     "output_type": "execute_result"
    }
   ],
   "source": [
    "df.groupby(by = \"version\")[\"prices\"].min()"
   ]
  },
  {
   "cell_type": "code",
   "execution_count": 34,
   "id": "287870c3",
   "metadata": {},
   "outputs": [
    {
     "data": {
      "text/plain": [
       "version\n",
       "Diesel    18.0\n",
       "Petrol    40.0\n",
       "Name: Mileage, dtype: float64"
      ]
     },
     "execution_count": 34,
     "metadata": {},
     "output_type": "execute_result"
    }
   ],
   "source": [
    "df.groupby(by = \"version\")[\"Mileage\"].max()"
   ]
  },
  {
   "cell_type": "code",
   "execution_count": 35,
   "id": "fa003420",
   "metadata": {},
   "outputs": [
    {
     "data": {
      "text/plain": [
       "version\n",
       "Diesel    12.0\n",
       "Petrol     7.0\n",
       "Name: Mileage, dtype: float64"
      ]
     },
     "execution_count": 35,
     "metadata": {},
     "output_type": "execute_result"
    }
   ],
   "source": [
    "df.groupby(by = \"version\")[\"Mileage\"].min()"
   ]
  },
  {
   "cell_type": "code",
   "execution_count": 36,
   "id": "bf2f2b56",
   "metadata": {},
   "outputs": [
    {
     "data": {
      "text/plain": [
       "version\n",
       "Diesel    4999.0\n",
       "Petrol    6750.0\n",
       "Name: Engine_cc, dtype: float64"
      ]
     },
     "execution_count": 36,
     "metadata": {},
     "output_type": "execute_result"
    }
   ],
   "source": [
    "df.groupby(by = \"version\")[\"Engine_cc\"].max()"
   ]
  },
  {
   "cell_type": "code",
   "execution_count": 37,
   "id": "0e175ee7",
   "metadata": {},
   "outputs": [
    {
     "data": {
      "text/plain": [
       "Brands\n",
       "Aston            18.0\n",
       "Audi             18.0\n",
       "BMW              40.0\n",
       "Bentley          18.0\n",
       "Datsun           22.0\n",
       "Ferrari          18.0\n",
       "Honda            27.0\n",
       "Hyundai          25.0\n",
       "Jaguar           18.0\n",
       "Jeep             18.0\n",
       "Kia              21.0\n",
       "Lamborghini       8.0\n",
       "Land             18.0\n",
       "Lexus            18.0\n",
       "MG               18.0\n",
       "MINI             18.0\n",
       "Mahindra         20.0\n",
       "Maruti           26.0\n",
       "Maserati         18.0\n",
       "Mercedes-Benz    18.0\n",
       "Nissan           20.0\n",
       "Porsche          18.0\n",
       "Renault          22.0\n",
       "Rolls            18.0\n",
       "Skoda            19.0\n",
       "Tata             25.0\n",
       "Toyota           23.0\n",
       "Volkswagen       18.0\n",
       "Volvo            18.0\n",
       "Name: Mileage, dtype: float64"
      ]
     },
     "execution_count": 37,
     "metadata": {},
     "output_type": "execute_result"
    }
   ],
   "source": [
    "df.groupby(by = \"Brands\")[\"Mileage\"].max()"
   ]
  },
  {
   "cell_type": "code",
   "execution_count": 38,
   "id": "d81b422a",
   "metadata": {},
   "outputs": [
    {
     "data": {
      "text/plain": [
       "Brands\n",
       "Aston             420.00\n",
       "Audi              224.00\n",
       "BMW               223.00\n",
       "Bentley           410.00\n",
       "Datsun              4.95\n",
       "Ferrari           750.00\n",
       "Honda              19.49\n",
       "Hyundai            27.47\n",
       "Jaguar            151.00\n",
       "Jeep               60.35\n",
       "Kia                64.95\n",
       "Lamborghini       625.00\n",
       "Land              417.00\n",
       "Lexus             232.00\n",
       "MG                 39.49\n",
       "MINI               47.20\n",
       "Mahindra           31.87\n",
       "Maruti             14.55\n",
       "Maserati          269.00\n",
       "Mercedes-Benz     320.00\n",
       "Nissan            212.00\n",
       "Porsche           308.00\n",
       "Renault            10.57\n",
       "Rolls            1048.00\n",
       "Skoda              38.49\n",
       "Tata               23.45\n",
       "Toyota             90.80\n",
       "Volkswagen         32.79\n",
       "Volvo             131.00\n",
       "Name: prices, dtype: float64"
      ]
     },
     "execution_count": 38,
     "metadata": {},
     "output_type": "execute_result"
    }
   ],
   "source": [
    "df.groupby(by = \"Brands\")[\"prices\"].max()"
   ]
  },
  {
   "cell_type": "code",
   "execution_count": 39,
   "id": "155ddf8c",
   "metadata": {},
   "outputs": [
    {
     "data": {
      "text/plain": [
       "Brands         version\n",
       "Aston          Diesel     382.000000\n",
       "               Petrol     385.000000\n",
       "Audi           Diesel     156.125000\n",
       "               Petrol     113.413636\n",
       "BMW            Diesel      92.450000\n",
       "               Petrol     109.278947\n",
       "Bentley        Petrol     380.666667\n",
       "Datsun         Petrol       4.950000\n",
       "Ferrari        Petrol     490.600000\n",
       "Honda          Petrol      13.115000\n",
       "Hyundai        Diesel      15.635000\n",
       "               Petrol      14.010000\n",
       "Jaguar         Diesel     113.500000\n",
       "               Petrol     102.833333\n",
       "Jeep           Diesel      33.960000\n",
       "               Petrol      44.970000\n",
       "Kia            Diesel      49.970000\n",
       "               Petrol      16.610000\n",
       "Lamborghini    Petrol     489.000000\n",
       "Land           Petrol     166.444286\n",
       "Lexus          Petrol     151.908333\n",
       "MG             Diesel      28.490000\n",
       "               Petrol      19.430000\n",
       "MINI           Diesel      47.200000\n",
       "               Petrol      43.975000\n",
       "Mahindra       Diesel      14.453333\n",
       "               Petrol      13.202000\n",
       "Maruti         Diesel       7.143333\n",
       "               Petrol       8.812500\n",
       "Maserati       Petrol     217.600000\n",
       "Mercedes-Benz  Diesel     123.550000\n",
       "               Petrol     137.331304\n",
       "Nissan         Petrol      79.153333\n",
       "Porsche        Diesel     229.000000\n",
       "               Petrol     228.166667\n",
       "Renault        Petrol       8.323333\n",
       "Rolls          Petrol     804.600000\n",
       "Skoda          Petrol      28.562000\n",
       "Tata           Diesel      19.567500\n",
       "               Petrol       9.238571\n",
       "Toyota         Diesel      36.800000\n",
       "               Petrol      38.333333\n",
       "Volkswagen     Petrol      18.794000\n",
       "Volvo          Petrol      70.640000\n",
       "Name: prices, dtype: float64"
      ]
     },
     "execution_count": 39,
     "metadata": {},
     "output_type": "execute_result"
    }
   ],
   "source": [
    "df.groupby(by = [\"Brands\",\"version\"])[\"prices\"].mean()"
   ]
  },
  {
   "cell_type": "code",
   "execution_count": 40,
   "id": "3b1be2d6",
   "metadata": {},
   "outputs": [
    {
     "data": {
      "text/plain": [
       "Brands         version\n",
       "Aston          Diesel     18.0\n",
       "               Petrol     18.0\n",
       "Audi           Diesel     18.0\n",
       "               Petrol     18.0\n",
       "BMW            Diesel     18.0\n",
       "               Petrol     40.0\n",
       "Bentley        Petrol     18.0\n",
       "Datsun         Petrol     22.0\n",
       "Ferrari        Petrol     18.0\n",
       "Honda          Petrol     27.0\n",
       "Hyundai        Diesel     18.0\n",
       "               Petrol     25.0\n",
       "Jaguar         Diesel     18.0\n",
       "               Petrol     18.0\n",
       "Jeep           Diesel     18.0\n",
       "               Petrol     17.0\n",
       "Kia            Diesel     18.0\n",
       "               Petrol     21.0\n",
       "Lamborghini    Petrol      8.0\n",
       "Land           Petrol     18.0\n",
       "Lexus          Petrol     18.0\n",
       "MG             Diesel     18.0\n",
       "               Petrol     18.0\n",
       "MINI           Diesel     18.0\n",
       "               Petrol     17.0\n",
       "Mahindra       Diesel     18.0\n",
       "               Petrol     20.0\n",
       "Maruti         Diesel     18.0\n",
       "               Petrol     26.0\n",
       "Maserati       Petrol     18.0\n",
       "Mercedes-Benz  Diesel     18.0\n",
       "               Petrol     18.0\n",
       "Nissan         Petrol     20.0\n",
       "Porsche        Diesel     18.0\n",
       "               Petrol     18.0\n",
       "Renault        Petrol     22.0\n",
       "Rolls          Petrol     18.0\n",
       "Skoda          Petrol     19.0\n",
       "Tata           Diesel     18.0\n",
       "               Petrol     25.0\n",
       "Toyota         Diesel     18.0\n",
       "               Petrol     23.0\n",
       "Volkswagen     Petrol     18.0\n",
       "Volvo          Petrol     18.0\n",
       "Name: Mileage, dtype: float64"
      ]
     },
     "execution_count": 40,
     "metadata": {},
     "output_type": "execute_result"
    }
   ],
   "source": [
    "df.groupby(by = [\"Brands\",\"version\"])[\"Mileage\"].max()"
   ]
  },
  {
   "cell_type": "code",
   "execution_count": 41,
   "id": "0ce7404b",
   "metadata": {},
   "outputs": [
    {
     "data": {
      "text/html": [
       "<div>\n",
       "<style scoped>\n",
       "    .dataframe tbody tr th:only-of-type {\n",
       "        vertical-align: middle;\n",
       "    }\n",
       "\n",
       "    .dataframe tbody tr th {\n",
       "        vertical-align: top;\n",
       "    }\n",
       "\n",
       "    .dataframe thead th {\n",
       "        text-align: right;\n",
       "    }\n",
       "</style>\n",
       "<table border=\"1\" class=\"dataframe\">\n",
       "  <thead>\n",
       "    <tr style=\"text-align: right;\">\n",
       "      <th></th>\n",
       "      <th>Unnamed: 0</th>\n",
       "      <th>Brands</th>\n",
       "      <th>carname</th>\n",
       "      <th>prices</th>\n",
       "      <th>Engine_cc</th>\n",
       "      <th>Mileage</th>\n",
       "      <th>version</th>\n",
       "      <th>Ratings</th>\n",
       "      <th>Reviews</th>\n",
       "    </tr>\n",
       "  </thead>\n",
       "  <tbody>\n",
       "    <tr>\n",
       "      <th>19</th>\n",
       "      <td>19</td>\n",
       "      <td>Honda</td>\n",
       "      <td>City</td>\n",
       "      <td>15.41</td>\n",
       "      <td>1498.0</td>\n",
       "      <td>24.0</td>\n",
       "      <td>Petrol</td>\n",
       "      <td>4.2</td>\n",
       "      <td>863.0</td>\n",
       "    </tr>\n",
       "    <tr>\n",
       "      <th>20</th>\n",
       "      <td>20</td>\n",
       "      <td>Honda</td>\n",
       "      <td>Amaze</td>\n",
       "      <td>11.39</td>\n",
       "      <td>1199.0</td>\n",
       "      <td>25.0</td>\n",
       "      <td>Petrol</td>\n",
       "      <td>3.8</td>\n",
       "      <td>141.0</td>\n",
       "    </tr>\n",
       "    <tr>\n",
       "      <th>21</th>\n",
       "      <td>21</td>\n",
       "      <td>Honda</td>\n",
       "      <td>Jazz</td>\n",
       "      <td>10.21</td>\n",
       "      <td>1199.0</td>\n",
       "      <td>17.0</td>\n",
       "      <td>Petrol</td>\n",
       "      <td>4.2</td>\n",
       "      <td>196.0</td>\n",
       "    </tr>\n",
       "    <tr>\n",
       "      <th>22</th>\n",
       "      <td>22</td>\n",
       "      <td>Honda</td>\n",
       "      <td>WR-V</td>\n",
       "      <td>12.20</td>\n",
       "      <td>1199.0</td>\n",
       "      <td>24.0</td>\n",
       "      <td>Petrol</td>\n",
       "      <td>4.0</td>\n",
       "      <td>187.0</td>\n",
       "    </tr>\n",
       "    <tr>\n",
       "      <th>23</th>\n",
       "      <td>23</td>\n",
       "      <td>Honda</td>\n",
       "      <td>City</td>\n",
       "      <td>9.99</td>\n",
       "      <td>1497.0</td>\n",
       "      <td>17.0</td>\n",
       "      <td>Petrol</td>\n",
       "      <td>4.3</td>\n",
       "      <td>1881.0</td>\n",
       "    </tr>\n",
       "    <tr>\n",
       "      <th>24</th>\n",
       "      <td>24</td>\n",
       "      <td>Honda</td>\n",
       "      <td>City</td>\n",
       "      <td>19.49</td>\n",
       "      <td>1498.0</td>\n",
       "      <td>27.0</td>\n",
       "      <td>Petrol</td>\n",
       "      <td>2.5</td>\n",
       "      <td>47.5</td>\n",
       "    </tr>\n",
       "  </tbody>\n",
       "</table>\n",
       "</div>"
      ],
      "text/plain": [
       "    Unnamed: 0 Brands carname  prices  Engine_cc  Mileage version  Ratings  \\\n",
       "19          19  Honda    City   15.41     1498.0     24.0  Petrol      4.2   \n",
       "20          20  Honda   Amaze   11.39     1199.0     25.0  Petrol      3.8   \n",
       "21          21  Honda    Jazz   10.21     1199.0     17.0  Petrol      4.2   \n",
       "22          22  Honda    WR-V   12.20     1199.0     24.0  Petrol      4.0   \n",
       "23          23  Honda    City    9.99     1497.0     17.0  Petrol      4.3   \n",
       "24          24  Honda    City   19.49     1498.0     27.0  Petrol      2.5   \n",
       "\n",
       "    Reviews  \n",
       "19    863.0  \n",
       "20    141.0  \n",
       "21    196.0  \n",
       "22    187.0  \n",
       "23   1881.0  \n",
       "24     47.5  "
      ]
     },
     "execution_count": 41,
     "metadata": {},
     "output_type": "execute_result"
    }
   ],
   "source": [
    " df[df['Brands'] == 'Honda']"
   ]
  },
  {
   "cell_type": "code",
   "execution_count": 42,
   "id": "9b07d144",
   "metadata": {},
   "outputs": [
    {
     "data": {
      "text/html": [
       "<div>\n",
       "<style scoped>\n",
       "    .dataframe tbody tr th:only-of-type {\n",
       "        vertical-align: middle;\n",
       "    }\n",
       "\n",
       "    .dataframe tbody tr th {\n",
       "        vertical-align: top;\n",
       "    }\n",
       "\n",
       "    .dataframe thead th {\n",
       "        text-align: right;\n",
       "    }\n",
       "</style>\n",
       "<table border=\"1\" class=\"dataframe\">\n",
       "  <thead>\n",
       "    <tr style=\"text-align: right;\">\n",
       "      <th>prices</th>\n",
       "      <th>3.97</th>\n",
       "      <th>4.95</th>\n",
       "      <th>5.03</th>\n",
       "      <th>5.64</th>\n",
       "      <th>5.83</th>\n",
       "      <th>5.94</th>\n",
       "      <th>5.96</th>\n",
       "      <th>6.05</th>\n",
       "      <th>6.41</th>\n",
       "      <th>7.00</th>\n",
       "      <th>...</th>\n",
       "      <th>420.00</th>\n",
       "      <th>499.00</th>\n",
       "      <th>575.00</th>\n",
       "      <th>625.00</th>\n",
       "      <th>695.00</th>\n",
       "      <th>721.00</th>\n",
       "      <th>750.00</th>\n",
       "      <th>764.00</th>\n",
       "      <th>795.00</th>\n",
       "      <th>1048.00</th>\n",
       "    </tr>\n",
       "    <tr>\n",
       "      <th>version</th>\n",
       "      <th></th>\n",
       "      <th></th>\n",
       "      <th></th>\n",
       "      <th></th>\n",
       "      <th></th>\n",
       "      <th></th>\n",
       "      <th></th>\n",
       "      <th></th>\n",
       "      <th></th>\n",
       "      <th></th>\n",
       "      <th></th>\n",
       "      <th></th>\n",
       "      <th></th>\n",
       "      <th></th>\n",
       "      <th></th>\n",
       "      <th></th>\n",
       "      <th></th>\n",
       "      <th></th>\n",
       "      <th></th>\n",
       "      <th></th>\n",
       "      <th></th>\n",
       "    </tr>\n",
       "  </thead>\n",
       "  <tbody>\n",
       "    <tr>\n",
       "      <th>Diesel</th>\n",
       "      <td>NaN</td>\n",
       "      <td>NaN</td>\n",
       "      <td>NaN</td>\n",
       "      <td>NaN</td>\n",
       "      <td>Maruti</td>\n",
       "      <td>NaN</td>\n",
       "      <td>NaN</td>\n",
       "      <td>Maruti</td>\n",
       "      <td>NaN</td>\n",
       "      <td>NaN</td>\n",
       "      <td>...</td>\n",
       "      <td>NaN</td>\n",
       "      <td>NaN</td>\n",
       "      <td>NaN</td>\n",
       "      <td>NaN</td>\n",
       "      <td>NaN</td>\n",
       "      <td>NaN</td>\n",
       "      <td>NaN</td>\n",
       "      <td>NaN</td>\n",
       "      <td>NaN</td>\n",
       "      <td>NaN</td>\n",
       "    </tr>\n",
       "    <tr>\n",
       "      <th>Petrol</th>\n",
       "      <td>Maruti</td>\n",
       "      <td>Datsun</td>\n",
       "      <td>Maruti</td>\n",
       "      <td>Maruti</td>\n",
       "      <td>NaN</td>\n",
       "      <td>Maruti</td>\n",
       "      <td>Renault</td>\n",
       "      <td>NaN</td>\n",
       "      <td>Hyundai</td>\n",
       "      <td>Maruti</td>\n",
       "      <td>...</td>\n",
       "      <td>Aston</td>\n",
       "      <td>Lamborghini</td>\n",
       "      <td>Ferrari</td>\n",
       "      <td>Lamborghini</td>\n",
       "      <td>Rolls</td>\n",
       "      <td>Rolls</td>\n",
       "      <td>Ferrari</td>\n",
       "      <td>Rolls</td>\n",
       "      <td>Rolls</td>\n",
       "      <td>Rolls</td>\n",
       "    </tr>\n",
       "  </tbody>\n",
       "</table>\n",
       "<p>2 rows × 208 columns</p>\n",
       "</div>"
      ],
      "text/plain": [
       "prices  3.97    4.95    5.03    5.64    5.83    5.94     5.96    6.05     \\\n",
       "version                                                                    \n",
       "Diesel      NaN     NaN     NaN     NaN  Maruti     NaN      NaN  Maruti   \n",
       "Petrol   Maruti  Datsun  Maruti  Maruti     NaN  Maruti  Renault     NaN   \n",
       "\n",
       "prices   6.41    7.00     ... 420.00       499.00   575.00       625.00   \\\n",
       "version                   ...                                              \n",
       "Diesel       NaN     NaN  ...     NaN          NaN      NaN          NaN   \n",
       "Petrol   Hyundai  Maruti  ...   Aston  Lamborghini  Ferrari  Lamborghini   \n",
       "\n",
       "prices  695.00  721.00   750.00  764.00  795.00  1048.00  \n",
       "version                                                   \n",
       "Diesel      NaN     NaN      NaN     NaN     NaN     NaN  \n",
       "Petrol    Rolls   Rolls  Ferrari   Rolls   Rolls   Rolls  \n",
       "\n",
       "[2 rows x 208 columns]"
      ]
     },
     "execution_count": 42,
     "metadata": {},
     "output_type": "execute_result"
    }
   ],
   "source": [
    "df.pivot_table(values=\"Brands\",index=\"version\",columns = ['prices'],aggfunc='max')"
   ]
  },
  {
   "cell_type": "markdown",
   "id": "c1d11b0c",
   "metadata": {},
   "source": [
    "# Conclusion"
   ]
  },
  {
   "cell_type": "code",
   "execution_count": 55,
   "id": "034b9abf",
   "metadata": {},
   "outputs": [
    {
     "data": {
      "text/html": [
       "<div>\n",
       "<style scoped>\n",
       "    .dataframe tbody tr th:only-of-type {\n",
       "        vertical-align: middle;\n",
       "    }\n",
       "\n",
       "    .dataframe tbody tr th {\n",
       "        vertical-align: top;\n",
       "    }\n",
       "\n",
       "    .dataframe thead th {\n",
       "        text-align: right;\n",
       "    }\n",
       "</style>\n",
       "<table border=\"1\" class=\"dataframe\">\n",
       "  <thead>\n",
       "    <tr style=\"text-align: right;\">\n",
       "      <th></th>\n",
       "      <th>Brands</th>\n",
       "      <th>prices</th>\n",
       "      <th>Engine_cc</th>\n",
       "      <th>Ratings</th>\n",
       "    </tr>\n",
       "  </thead>\n",
       "  <tbody>\n",
       "    <tr>\n",
       "      <th>26</th>\n",
       "      <td>Maruti</td>\n",
       "      <td>12.79</td>\n",
       "      <td>1462.0</td>\n",
       "      <td>1.9</td>\n",
       "    </tr>\n",
       "    <tr>\n",
       "      <th>31</th>\n",
       "      <td>Maruti</td>\n",
       "      <td>14.55</td>\n",
       "      <td>1462.0</td>\n",
       "      <td>2.2</td>\n",
       "    </tr>\n",
       "    <tr>\n",
       "      <th>286</th>\n",
       "      <td>Maruti</td>\n",
       "      <td>12.79</td>\n",
       "      <td>1462.0</td>\n",
       "      <td>1.9</td>\n",
       "    </tr>\n",
       "    <tr>\n",
       "      <th>291</th>\n",
       "      <td>Maruti</td>\n",
       "      <td>14.55</td>\n",
       "      <td>1462.0</td>\n",
       "      <td>2.2</td>\n",
       "    </tr>\n",
       "  </tbody>\n",
       "</table>\n",
       "</div>"
      ],
      "text/plain": [
       "     Brands  prices  Engine_cc  Ratings\n",
       "26   Maruti   12.79     1462.0      1.9\n",
       "31   Maruti   14.55     1462.0      2.2\n",
       "286  Maruti   12.79     1462.0      1.9\n",
       "291  Maruti   14.55     1462.0      2.2"
      ]
     },
     "execution_count": 55,
     "metadata": {},
     "output_type": "execute_result"
    }
   ],
   "source": [
    "df.loc[(df.prices<=20) & (df.Mileage==20)& (df.Engine_cc>=1200)&(df.Ratings>1.5),['Brands','prices','Engine_cc','Ratings']]"
   ]
  },
  {
   "cell_type": "code",
   "execution_count": 56,
   "id": "90493079",
   "metadata": {},
   "outputs": [
    {
     "data": {
      "text/html": [
       "<div>\n",
       "<style scoped>\n",
       "    .dataframe tbody tr th:only-of-type {\n",
       "        vertical-align: middle;\n",
       "    }\n",
       "\n",
       "    .dataframe tbody tr th {\n",
       "        vertical-align: top;\n",
       "    }\n",
       "\n",
       "    .dataframe thead th {\n",
       "        text-align: right;\n",
       "    }\n",
       "</style>\n",
       "<table border=\"1\" class=\"dataframe\">\n",
       "  <thead>\n",
       "    <tr style=\"text-align: right;\">\n",
       "      <th></th>\n",
       "      <th>Brands</th>\n",
       "      <th>prices</th>\n",
       "      <th>Engine_cc</th>\n",
       "      <th>Ratings</th>\n",
       "    </tr>\n",
       "  </thead>\n",
       "  <tbody>\n",
       "    <tr>\n",
       "      <th>88</th>\n",
       "      <td>BMW</td>\n",
       "      <td>175.0</td>\n",
       "      <td>2993.0</td>\n",
       "      <td>3.9</td>\n",
       "    </tr>\n",
       "    <tr>\n",
       "      <th>222</th>\n",
       "      <td>BMW</td>\n",
       "      <td>175.0</td>\n",
       "      <td>2993.0</td>\n",
       "      <td>3.9</td>\n",
       "    </tr>\n",
       "  </tbody>\n",
       "</table>\n",
       "</div>"
      ],
      "text/plain": [
       "    Brands  prices  Engine_cc  Ratings\n",
       "88     BMW   175.0     2993.0      3.9\n",
       "222    BMW   175.0     2993.0      3.9"
      ]
     },
     "execution_count": 56,
     "metadata": {},
     "output_type": "execute_result"
    }
   ],
   "source": [
    "df.loc[(df.prices>50) & (df.Mileage>=24)& (df.Engine_cc>=1800)&(df.Ratings>1.5),['Brands','prices','Engine_cc','Ratings']]"
   ]
  },
  {
   "cell_type": "code",
   "execution_count": null,
   "id": "fd4b0dc0",
   "metadata": {},
   "outputs": [],
   "source": []
  }
 ],
 "metadata": {
  "kernelspec": {
   "display_name": "Python 3 (ipykernel)",
   "language": "python",
   "name": "python3"
  },
  "language_info": {
   "codemirror_mode": {
    "name": "ipython",
    "version": 3
   },
   "file_extension": ".py",
   "mimetype": "text/x-python",
   "name": "python",
   "nbconvert_exporter": "python",
   "pygments_lexer": "ipython3",
   "version": "3.9.7"
  }
 },
 "nbformat": 4,
 "nbformat_minor": 5
}
